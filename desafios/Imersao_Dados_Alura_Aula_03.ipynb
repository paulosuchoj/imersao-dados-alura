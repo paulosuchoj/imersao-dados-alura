{
  "nbformat": 4,
  "nbformat_minor": 0,
  "metadata": {
    "colab": {
      "name": "Imersao_Dados_Alura_Aula_03.ipynb",
      "provenance": []
    },
    "kernelspec": {
      "name": "python3",
      "display_name": "Python 3"
    },
    "language_info": {
      "name": "python"
    }
  },
  "cells": [
    {
      "cell_type": "markdown",
      "metadata": {
        "id": "Y1yNSY4gPE2q"
      },
      "source": [
        "# **Imersão Dados Alura - Aula 03 (05/05/2021)**"
      ]
    },
    {
      "cell_type": "code",
      "metadata": {
        "id": "BfdJk11bBV2d"
      },
      "source": [
        "import pandas as pd\n",
        "import numpy as np\n",
        "import matplotlib.pyplot as plt\n",
        "import seaborn as sns\n",
        "\n",
        "sns.set()\n",
        "\n",
        "url_dados = 'https://github.com/alura-cursos/imersaodados3/blob/main/dados/dados_experimentos.zip?raw=true'\n",
        "\n",
        "dados = pd.read_csv(url_dados, compression='zip')\n",
        "dados.columns = dados.columns.str.replace('-', '')\n",
        "\n",
        "dados"
      ],
      "execution_count": null,
      "outputs": []
    },
    {
      "cell_type": "markdown",
      "metadata": {
        "id": "UK1n10hkLNEK"
      },
      "source": [
        "# **Desafios**\n",
        "\n",
        "## **Aula 03**\n",
        "\n",
        "### Desafio 01: Criar tabelas de frequência com o `groupby()`\n",
        "### Desafio 02: Normalizar pela o crosstab pela coluna\n",
        "### Desafio 03: Explorar outros tipos de agregadores no parâmetro aggfunc\n",
        "### Desafio 04: Explorar o que faz a função `melt()`\n",
        "### Desafio 05: Calcular e analisar a correlação entre G e C. Refletir sobre os efeitos biológicos.\n",
        "### Desafio 06: Estudar o código que plota a matriz de correlação (heatmap)\n",
        "### Desafio 07: Resumo do que você aprendeu com os dados"
      ]
    }
  ]
}